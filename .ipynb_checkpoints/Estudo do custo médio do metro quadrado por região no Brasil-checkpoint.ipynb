{
 "cells": [
  {
   "cell_type": "markdown",
   "id": "a6913432",
   "metadata": {},
   "source": [
    "***\n",
    "# <font color=green size=10>Relatório de Análise</font>\n",
    "***\n",
    "## Estudo do valor do metro² no Brasil, separado por estado."
   ]
  },
  {
   "cell_type": "markdown",
   "id": "a43f489e",
   "metadata": {},
   "source": [
    "Sabemos que o custo da moradia no Brasil tem sido elevado devido aos últimos acontecimentos, e, também, devido ao crescimento exponencial das cidades, reduzindo a quantidade de espaço disponível e assim, fazendo com que os preços subam. A mudança mais perceptível está no custo dos imóveis para compra ou aluguel. No entanto, para quem deseja começar uma construção do zero, independente da finalidade, não levando em conta o custo dos demais materiais, quanto em média custaria para se adquirir um terreno para começar sua construção?"
   ]
  },
  {
   "cell_type": "markdown",
   "id": "f1b72e08",
   "metadata": {},
   "source": [
    "Os dados utilizados foram obtidos do site do IBGE, e são de outubro de 2021"
   ]
  },
  {
   "cell_type": "markdown",
   "id": "e82b70e5",
   "metadata": {},
   "source": [
    "Iremos filtrar algumas informações obtidas desde conjunto de dados para facilitar a compreensão"
   ]
  },
  {
   "cell_type": "code",
   "execution_count": 11,
   "id": "009e6227",
   "metadata": {},
   "outputs": [],
   "source": [
    "import pandas as pd\n",
    "import seaborn as sns\n",
    "import matplotlib as plt\n",
    "import numpy as np\n",
    "pd.options.display.max_rows = 200 # Altera o numero de linhs que sao mostradas num dataFrame"
   ]
  },
  {
   "cell_type": "code",
   "execution_count": 2,
   "id": "7fd7cf6b",
   "metadata": {},
   "outputs": [],
   "source": [
    "df = pd.read_csv('Dataset/custo_do_m2.csv')\n",
    "# fonte : https://www.ibge.gov.br/estatisticas/economicas/precos-e-custos/9270-sistema-nacional-de-pesquisa-de-custos-e-indices-da-construcao-civil.html?=&t=resultados"
   ]
  },
  {
   "cell_type": "code",
   "execution_count": 3,
   "id": "73a22acb",
   "metadata": {},
   "outputs": [
    {
     "data": {
      "text/html": [
       "<div>\n",
       "<style scoped>\n",
       "    .dataframe tbody tr th:only-of-type {\n",
       "        vertical-align: middle;\n",
       "    }\n",
       "\n",
       "    .dataframe tbody tr th {\n",
       "        vertical-align: top;\n",
       "    }\n",
       "\n",
       "    .dataframe thead th {\n",
       "        text-align: right;\n",
       "    }\n",
       "</style>\n",
       "<table border=\"1\" class=\"dataframe\">\n",
       "  <thead>\n",
       "    <tr style=\"text-align: right;\">\n",
       "      <th></th>\n",
       "      <th>Unidade Geográfica</th>\n",
       "      <th>Custo médio m² - moeda corrente-Reais</th>\n",
       "      <th>Custo médio m² - número-índice-Número-índice</th>\n",
       "      <th>Custo médio m² - variação percentual em doze meses-%</th>\n",
       "      <th>Custo médio m² - variação percentual no ano-%</th>\n",
       "      <th>Custo médio m² - variação percentual no mês-%</th>\n",
       "    </tr>\n",
       "  </thead>\n",
       "  <tbody>\n",
       "    <tr>\n",
       "      <th>0</th>\n",
       "      <td>Acre</td>\n",
       "      <td>1570.60</td>\n",
       "      <td>833.61</td>\n",
       "      <td>15.29</td>\n",
       "      <td>12.32</td>\n",
       "      <td>1.67</td>\n",
       "    </tr>\n",
       "    <tr>\n",
       "      <th>1</th>\n",
       "      <td>Alagoas</td>\n",
       "      <td>1341.20</td>\n",
       "      <td>670.05</td>\n",
       "      <td>20.03</td>\n",
       "      <td>16.06</td>\n",
       "      <td>1.35</td>\n",
       "    </tr>\n",
       "    <tr>\n",
       "      <th>2</th>\n",
       "      <td>Amapá</td>\n",
       "      <td>1406.14</td>\n",
       "      <td>682.98</td>\n",
       "      <td>13.90</td>\n",
       "      <td>10.95</td>\n",
       "      <td>1.32</td>\n",
       "    </tr>\n",
       "    <tr>\n",
       "      <th>3</th>\n",
       "      <td>Amazonas</td>\n",
       "      <td>1428.45</td>\n",
       "      <td>699.31</td>\n",
       "      <td>16.63</td>\n",
       "      <td>12.54</td>\n",
       "      <td>0.74</td>\n",
       "    </tr>\n",
       "    <tr>\n",
       "      <th>4</th>\n",
       "      <td>Bahia</td>\n",
       "      <td>1465.66</td>\n",
       "      <td>775.73</td>\n",
       "      <td>24.33</td>\n",
       "      <td>17.24</td>\n",
       "      <td>0.58</td>\n",
       "    </tr>\n",
       "  </tbody>\n",
       "</table>\n",
       "</div>"
      ],
      "text/plain": [
       "   Unidade Geográfica  Custo médio m² - moeda corrente-Reais  \\\n",
       "0                Acre                                1570.60   \n",
       "1             Alagoas                                1341.20   \n",
       "2               Amapá                                1406.14   \n",
       "3            Amazonas                                1428.45   \n",
       "4               Bahia                                1465.66   \n",
       "\n",
       "   Custo médio m² - número-índice-Número-índice  \\\n",
       "0                                        833.61   \n",
       "1                                        670.05   \n",
       "2                                        682.98   \n",
       "3                                        699.31   \n",
       "4                                        775.73   \n",
       "\n",
       "   Custo médio m² - variação percentual em doze meses-%  \\\n",
       "0                                              15.29      \n",
       "1                                              20.03      \n",
       "2                                              13.90      \n",
       "3                                              16.63      \n",
       "4                                              24.33      \n",
       "\n",
       "   Custo médio m² - variação percentual no ano-%  \\\n",
       "0                                          12.32   \n",
       "1                                          16.06   \n",
       "2                                          10.95   \n",
       "3                                          12.54   \n",
       "4                                          17.24   \n",
       "\n",
       "   Custo médio m² - variação percentual no mês-%  \n",
       "0                                           1.67  \n",
       "1                                           1.35  \n",
       "2                                           1.32  \n",
       "3                                           0.74  \n",
       "4                                           0.58  "
      ]
     },
     "execution_count": 3,
     "metadata": {},
     "output_type": "execute_result"
    }
   ],
   "source": [
    "df.head(5)"
   ]
  },
  {
   "cell_type": "code",
   "execution_count": 4,
   "id": "8c467390",
   "metadata": {},
   "outputs": [],
   "source": [
    "#Realizando a troca do nome de algumas colunas para melhor compreensão\n",
    "\n",
    "df.rename(columns={' Unidade Geográfica':'Estado',\n",
    "                   'Custo médio m² - moeda corrente-Reais': 'Custo médio do m² em R$',\n",
    "                   'Custo médio m² - variação percentual no mês-%':'Variação percentual mês de outubro',\n",
    "                   'Custo médio m² - variação percentual no ano-%': 'Variação percentual no ano de 2021 até outubro'\n",
    "                  }, inplace = True)"
   ]
  },
  {
   "cell_type": "code",
   "execution_count": 5,
   "id": "6cd91a75",
   "metadata": {},
   "outputs": [],
   "source": [
    "#Realizado o drop de algumas colunas para nao pertinente para essa visualização para facilitar a compreensão\n",
    "df.drop(['Custo médio m² - número-índice-Número-índice', 'Custo médio m² - variação percentual em doze meses-%'],\n",
    "       axis = 1,\n",
    "       inplace = True\n",
    "       )"
   ]
  },
  {
   "cell_type": "code",
   "execution_count": 6,
   "id": "8e449173",
   "metadata": {},
   "outputs": [],
   "source": [
    "#Alterando o indexo para estado\n",
    "df.set_index('Estado', inplace = True)"
   ]
  },
  {
   "cell_type": "code",
   "execution_count": 7,
   "id": "046780e9",
   "metadata": {},
   "outputs": [],
   "source": [
    "#Removendo colunas que não são estados\n",
    "df.drop(['Sul','Sudeste', 'Norte', 'Nordeste', 'Centro-Oeste', 'Brasil'], axis = 0, inplace = True)"
   ]
  },
  {
   "cell_type": "code",
   "execution_count": 8,
   "id": "4822eee1",
   "metadata": {},
   "outputs": [
    {
     "data": {
      "text/html": [
       "<div>\n",
       "<style scoped>\n",
       "    .dataframe tbody tr th:only-of-type {\n",
       "        vertical-align: middle;\n",
       "    }\n",
       "\n",
       "    .dataframe tbody tr th {\n",
       "        vertical-align: top;\n",
       "    }\n",
       "\n",
       "    .dataframe thead th {\n",
       "        text-align: right;\n",
       "    }\n",
       "</style>\n",
       "<table border=\"1\" class=\"dataframe\">\n",
       "  <thead>\n",
       "    <tr style=\"text-align: right;\">\n",
       "      <th></th>\n",
       "      <th>Custo médio do m² em R$</th>\n",
       "      <th>Variação percentual no ano de 2021 até outubro</th>\n",
       "      <th>Variação percentual mês de outubro</th>\n",
       "    </tr>\n",
       "    <tr>\n",
       "      <th>Estado</th>\n",
       "      <th></th>\n",
       "      <th></th>\n",
       "      <th></th>\n",
       "    </tr>\n",
       "  </thead>\n",
       "  <tbody>\n",
       "    <tr>\n",
       "      <th>Acre</th>\n",
       "      <td>1570.60</td>\n",
       "      <td>12.32</td>\n",
       "      <td>1.67</td>\n",
       "    </tr>\n",
       "    <tr>\n",
       "      <th>Alagoas</th>\n",
       "      <td>1341.20</td>\n",
       "      <td>16.06</td>\n",
       "      <td>1.35</td>\n",
       "    </tr>\n",
       "    <tr>\n",
       "      <th>Amapá</th>\n",
       "      <td>1406.14</td>\n",
       "      <td>10.95</td>\n",
       "      <td>1.32</td>\n",
       "    </tr>\n",
       "    <tr>\n",
       "      <th>Amazonas</th>\n",
       "      <td>1428.45</td>\n",
       "      <td>12.54</td>\n",
       "      <td>0.74</td>\n",
       "    </tr>\n",
       "    <tr>\n",
       "      <th>Bahia</th>\n",
       "      <td>1465.66</td>\n",
       "      <td>17.24</td>\n",
       "      <td>0.58</td>\n",
       "    </tr>\n",
       "    <tr>\n",
       "      <th>Ceará</th>\n",
       "      <td>1379.18</td>\n",
       "      <td>16.63</td>\n",
       "      <td>0.56</td>\n",
       "    </tr>\n",
       "    <tr>\n",
       "      <th>Distrito Federal</th>\n",
       "      <td>1524.57</td>\n",
       "      <td>15.14</td>\n",
       "      <td>1.18</td>\n",
       "    </tr>\n",
       "    <tr>\n",
       "      <th>Espírito Santo</th>\n",
       "      <td>1366.19</td>\n",
       "      <td>16.39</td>\n",
       "      <td>0.61</td>\n",
       "    </tr>\n",
       "    <tr>\n",
       "      <th>Goiás</th>\n",
       "      <td>1456.61</td>\n",
       "      <td>13.87</td>\n",
       "      <td>1.49</td>\n",
       "    </tr>\n",
       "    <tr>\n",
       "      <th>Maranhão</th>\n",
       "      <td>1396.16</td>\n",
       "      <td>14.92</td>\n",
       "      <td>0.40</td>\n",
       "    </tr>\n",
       "  </tbody>\n",
       "</table>\n",
       "</div>"
      ],
      "text/plain": [
       "                  Custo médio do m² em R$  \\\n",
       "Estado                                      \n",
       "Acre                              1570.60   \n",
       "Alagoas                           1341.20   \n",
       "Amapá                             1406.14   \n",
       "Amazonas                          1428.45   \n",
       "Bahia                             1465.66   \n",
       "Ceará                             1379.18   \n",
       "Distrito Federal                  1524.57   \n",
       "Espírito Santo                    1366.19   \n",
       "Goiás                             1456.61   \n",
       "Maranhão                          1396.16   \n",
       "\n",
       "                  Variação percentual no ano de 2021 até outubro  \\\n",
       "Estado                                                             \n",
       "Acre                                                       12.32   \n",
       "Alagoas                                                    16.06   \n",
       "Amapá                                                      10.95   \n",
       "Amazonas                                                   12.54   \n",
       "Bahia                                                      17.24   \n",
       "Ceará                                                      16.63   \n",
       "Distrito Federal                                           15.14   \n",
       "Espírito Santo                                             16.39   \n",
       "Goiás                                                      13.87   \n",
       "Maranhão                                                   14.92   \n",
       "\n",
       "                  Variação percentual mês de outubro  \n",
       "Estado                                                \n",
       "Acre                                            1.67  \n",
       "Alagoas                                         1.35  \n",
       "Amapá                                           1.32  \n",
       "Amazonas                                        0.74  \n",
       "Bahia                                           0.58  \n",
       "Ceará                                           0.56  \n",
       "Distrito Federal                                1.18  \n",
       "Espírito Santo                                  0.61  \n",
       "Goiás                                           1.49  \n",
       "Maranhão                                        0.40  "
      ]
     },
     "execution_count": 8,
     "metadata": {},
     "output_type": "execute_result"
    }
   ],
   "source": [
    "df.head(10)"
   ]
  },
  {
   "cell_type": "code",
   "execution_count": 60,
   "id": "96c69b2a",
   "metadata": {},
   "outputs": [
    {
     "data": {
      "text/plain": [
       "Valor Máximo por m² no Brasil                     1695.78\n",
       "Valor Mínimo por Metro m² no Brasil               1303.56\n",
       "Diferença em % entre do valor mínimo ao máximo      30.09\n",
       "Media abosuluta dos valores                       1458.16\n",
       "Mediana                                           1460.63\n",
       "Desvio Médio absoluto                               73.00\n",
       "variancia                                         9165.33\n",
       "Desvio Padrao                                       95.74\n",
       "dtype: float64"
      ]
     },
     "execution_count": 60,
     "metadata": {},
     "output_type": "execute_result"
    }
   ],
   "source": [
    "#Classificando algumas medidas de têndencia centrale de dispersão\n",
    "\n",
    "valormax = round (df['Custo médio do m² em R$'].max(), 2)\n",
    "valormin = df['Custo médio do m² em R$'].min()\n",
    "media = round(df['Custo médio do m² em R$'].mean(), 2)\n",
    "moda = df['Custo médio do m² em R$'].mode()\n",
    "diferencaMaxMin = round(((valormax - valormin)/valormin)*100, 2)\n",
    "mediana = df['Custo médio do m² em R$'].median() #Valor central dessa população\n",
    "desvioMedioAbsoluto = round(df['Custo médio do m² em R$'].mad())\n",
    "variancia = round(df['Custo médio do m² em R$'].var(), 2)\n",
    "desvioPadrao = round(df['Custo médio do m² em R$'].std(), 2)\n",
    "\n",
    "\n",
    "\n",
    "dataset = {'Valor Máximo por m² no Brasil':valormax,\n",
    "           'Valor Mínimo por Metro m² no Brasil':valormin,\n",
    "           'Diferença em % entre do valor mínimo ao máximo': diferencaMaxMin,\n",
    "           'Media abosuluta dos valores':media,\n",
    "           'Mediana':mediana,\n",
    "           #'Moda':moda,\n",
    "           'Desvio Médio absoluto':desvioMedioAbsoluto,\n",
    "           'variancia':variancia,\n",
    "           'Desvio Padrao':desvioPadrao\n",
    "          }\n",
    "\n",
    "\n",
    "pd.Series(dataset).round(2)"
   ]
  },
  {
   "cell_type": "code",
   "execution_count": 12,
   "id": "0325974d",
   "metadata": {},
   "outputs": [
    {
     "data": {
      "text/plain": [
       "95.73400649716902"
      ]
     },
     "execution_count": 12,
     "metadata": {},
     "output_type": "execute_result"
    }
   ],
   "source": [
    "np.sqrt(9165)"
   ]
  },
  {
   "cell_type": "code",
   "execution_count": 39,
   "id": "febd6d5c",
   "metadata": {},
   "outputs": [
    {
     "data": {
      "text/html": [
       "<div>\n",
       "<style scoped>\n",
       "    .dataframe tbody tr th:only-of-type {\n",
       "        vertical-align: middle;\n",
       "    }\n",
       "\n",
       "    .dataframe tbody tr th {\n",
       "        vertical-align: top;\n",
       "    }\n",
       "\n",
       "    .dataframe thead th {\n",
       "        text-align: right;\n",
       "    }\n",
       "</style>\n",
       "<table border=\"1\" class=\"dataframe\">\n",
       "  <thead>\n",
       "    <tr style=\"text-align: right;\">\n",
       "      <th></th>\n",
       "      <th>Custo médio do m² em R$</th>\n",
       "      <th>Variação percentual no ano de 2021 até outubro</th>\n",
       "      <th>Variação percentual mês de outubro</th>\n",
       "      <th>Desvio</th>\n",
       "    </tr>\n",
       "    <tr>\n",
       "      <th>Estado</th>\n",
       "      <th></th>\n",
       "      <th></th>\n",
       "      <th></th>\n",
       "      <th></th>\n",
       "    </tr>\n",
       "  </thead>\n",
       "  <tbody>\n",
       "    <tr>\n",
       "      <th>Acre</th>\n",
       "      <td>1570.60</td>\n",
       "      <td>12.32</td>\n",
       "      <td>1.67</td>\n",
       "      <td>112.44</td>\n",
       "    </tr>\n",
       "    <tr>\n",
       "      <th>Alagoas</th>\n",
       "      <td>1341.20</td>\n",
       "      <td>16.06</td>\n",
       "      <td>1.35</td>\n",
       "      <td>116.96</td>\n",
       "    </tr>\n",
       "    <tr>\n",
       "      <th>Amapá</th>\n",
       "      <td>1406.14</td>\n",
       "      <td>10.95</td>\n",
       "      <td>1.32</td>\n",
       "      <td>52.02</td>\n",
       "    </tr>\n",
       "    <tr>\n",
       "      <th>Amazonas</th>\n",
       "      <td>1428.45</td>\n",
       "      <td>12.54</td>\n",
       "      <td>0.74</td>\n",
       "      <td>29.71</td>\n",
       "    </tr>\n",
       "    <tr>\n",
       "      <th>Bahia</th>\n",
       "      <td>1465.66</td>\n",
       "      <td>17.24</td>\n",
       "      <td>0.58</td>\n",
       "      <td>7.50</td>\n",
       "    </tr>\n",
       "    <tr>\n",
       "      <th>Ceará</th>\n",
       "      <td>1379.18</td>\n",
       "      <td>16.63</td>\n",
       "      <td>0.56</td>\n",
       "      <td>78.98</td>\n",
       "    </tr>\n",
       "    <tr>\n",
       "      <th>Distrito Federal</th>\n",
       "      <td>1524.57</td>\n",
       "      <td>15.14</td>\n",
       "      <td>1.18</td>\n",
       "      <td>66.41</td>\n",
       "    </tr>\n",
       "    <tr>\n",
       "      <th>Espírito Santo</th>\n",
       "      <td>1366.19</td>\n",
       "      <td>16.39</td>\n",
       "      <td>0.61</td>\n",
       "      <td>91.97</td>\n",
       "    </tr>\n",
       "    <tr>\n",
       "      <th>Goiás</th>\n",
       "      <td>1456.61</td>\n",
       "      <td>13.87</td>\n",
       "      <td>1.49</td>\n",
       "      <td>1.55</td>\n",
       "    </tr>\n",
       "    <tr>\n",
       "      <th>Maranhão</th>\n",
       "      <td>1396.16</td>\n",
       "      <td>14.92</td>\n",
       "      <td>0.40</td>\n",
       "      <td>62.00</td>\n",
       "    </tr>\n",
       "    <tr>\n",
       "      <th>Mato Grosso</th>\n",
       "      <td>1448.77</td>\n",
       "      <td>18.09</td>\n",
       "      <td>0.91</td>\n",
       "      <td>9.39</td>\n",
       "    </tr>\n",
       "    <tr>\n",
       "      <th>Mato Grosso do Sul</th>\n",
       "      <td>1463.21</td>\n",
       "      <td>22.15</td>\n",
       "      <td>1.32</td>\n",
       "      <td>5.05</td>\n",
       "    </tr>\n",
       "    <tr>\n",
       "      <th>Minas Gerais</th>\n",
       "      <td>1460.63</td>\n",
       "      <td>19.87</td>\n",
       "      <td>0.89</td>\n",
       "      <td>2.47</td>\n",
       "    </tr>\n",
       "    <tr>\n",
       "      <th>Paraná</th>\n",
       "      <td>1551.50</td>\n",
       "      <td>19.22</td>\n",
       "      <td>0.54</td>\n",
       "      <td>93.34</td>\n",
       "    </tr>\n",
       "    <tr>\n",
       "      <th>Paraíba</th>\n",
       "      <td>1415.94</td>\n",
       "      <td>15.13</td>\n",
       "      <td>0.94</td>\n",
       "      <td>42.22</td>\n",
       "    </tr>\n",
       "    <tr>\n",
       "      <th>Pará</th>\n",
       "      <td>1493.84</td>\n",
       "      <td>17.40</td>\n",
       "      <td>4.61</td>\n",
       "      <td>35.68</td>\n",
       "    </tr>\n",
       "    <tr>\n",
       "      <th>Pernambuco</th>\n",
       "      <td>1357.88</td>\n",
       "      <td>16.71</td>\n",
       "      <td>0.67</td>\n",
       "      <td>100.28</td>\n",
       "    </tr>\n",
       "    <tr>\n",
       "      <th>Piauí</th>\n",
       "      <td>1353.94</td>\n",
       "      <td>11.75</td>\n",
       "      <td>0.94</td>\n",
       "      <td>104.22</td>\n",
       "    </tr>\n",
       "    <tr>\n",
       "      <th>Rio Grande do Norte</th>\n",
       "      <td>1303.56</td>\n",
       "      <td>15.39</td>\n",
       "      <td>1.08</td>\n",
       "      <td>154.60</td>\n",
       "    </tr>\n",
       "    <tr>\n",
       "      <th>Rio Grande do Sul</th>\n",
       "      <td>1488.98</td>\n",
       "      <td>15.28</td>\n",
       "      <td>0.14</td>\n",
       "      <td>30.82</td>\n",
       "    </tr>\n",
       "    <tr>\n",
       "      <th>Rio de Janeiro</th>\n",
       "      <td>1643.26</td>\n",
       "      <td>17.15</td>\n",
       "      <td>1.19</td>\n",
       "      <td>185.10</td>\n",
       "    </tr>\n",
       "    <tr>\n",
       "      <th>Rondônia</th>\n",
       "      <td>1480.16</td>\n",
       "      <td>11.14</td>\n",
       "      <td>0.88</td>\n",
       "      <td>22.00</td>\n",
       "    </tr>\n",
       "    <tr>\n",
       "      <th>Roraima</th>\n",
       "      <td>1494.43</td>\n",
       "      <td>11.52</td>\n",
       "      <td>1.52</td>\n",
       "      <td>36.27</td>\n",
       "    </tr>\n",
       "    <tr>\n",
       "      <th>Santa Catarina</th>\n",
       "      <td>1695.78</td>\n",
       "      <td>17.80</td>\n",
       "      <td>0.58</td>\n",
       "      <td>237.62</td>\n",
       "    </tr>\n",
       "    <tr>\n",
       "      <th>Sergipe</th>\n",
       "      <td>1320.86</td>\n",
       "      <td>17.88</td>\n",
       "      <td>0.69</td>\n",
       "      <td>137.30</td>\n",
       "    </tr>\n",
       "    <tr>\n",
       "      <th>São Paulo</th>\n",
       "      <td>1584.37</td>\n",
       "      <td>16.54</td>\n",
       "      <td>1.13</td>\n",
       "      <td>126.21</td>\n",
       "    </tr>\n",
       "    <tr>\n",
       "      <th>Tocantins</th>\n",
       "      <td>1478.57</td>\n",
       "      <td>13.11</td>\n",
       "      <td>0.84</td>\n",
       "      <td>20.41</td>\n",
       "    </tr>\n",
       "  </tbody>\n",
       "</table>\n",
       "</div>"
      ],
      "text/plain": [
       "                     Custo médio do m² em R$  \\\n",
       "Estado                                         \n",
       "Acre                                 1570.60   \n",
       "Alagoas                              1341.20   \n",
       "Amapá                                1406.14   \n",
       "Amazonas                             1428.45   \n",
       "Bahia                                1465.66   \n",
       "Ceará                                1379.18   \n",
       "Distrito Federal                     1524.57   \n",
       "Espírito Santo                       1366.19   \n",
       "Goiás                                1456.61   \n",
       "Maranhão                             1396.16   \n",
       "Mato Grosso                          1448.77   \n",
       "Mato Grosso do Sul                   1463.21   \n",
       "Minas Gerais                         1460.63   \n",
       "Paraná                               1551.50   \n",
       "Paraíba                              1415.94   \n",
       "Pará                                 1493.84   \n",
       "Pernambuco                           1357.88   \n",
       "Piauí                                1353.94   \n",
       "Rio Grande do Norte                  1303.56   \n",
       "Rio Grande do Sul                    1488.98   \n",
       "Rio de Janeiro                       1643.26   \n",
       "Rondônia                             1480.16   \n",
       "Roraima                              1494.43   \n",
       "Santa Catarina                       1695.78   \n",
       "Sergipe                              1320.86   \n",
       "São Paulo                            1584.37   \n",
       "Tocantins                            1478.57   \n",
       "\n",
       "                     Variação percentual no ano de 2021 até outubro  \\\n",
       "Estado                                                                \n",
       "Acre                                                          12.32   \n",
       "Alagoas                                                       16.06   \n",
       "Amapá                                                         10.95   \n",
       "Amazonas                                                      12.54   \n",
       "Bahia                                                         17.24   \n",
       "Ceará                                                         16.63   \n",
       "Distrito Federal                                              15.14   \n",
       "Espírito Santo                                                16.39   \n",
       "Goiás                                                         13.87   \n",
       "Maranhão                                                      14.92   \n",
       "Mato Grosso                                                   18.09   \n",
       "Mato Grosso do Sul                                            22.15   \n",
       "Minas Gerais                                                  19.87   \n",
       "Paraná                                                        19.22   \n",
       "Paraíba                                                       15.13   \n",
       "Pará                                                          17.40   \n",
       "Pernambuco                                                    16.71   \n",
       "Piauí                                                         11.75   \n",
       "Rio Grande do Norte                                           15.39   \n",
       "Rio Grande do Sul                                             15.28   \n",
       "Rio de Janeiro                                                17.15   \n",
       "Rondônia                                                      11.14   \n",
       "Roraima                                                       11.52   \n",
       "Santa Catarina                                                17.80   \n",
       "Sergipe                                                       17.88   \n",
       "São Paulo                                                     16.54   \n",
       "Tocantins                                                     13.11   \n",
       "\n",
       "                     Variação percentual mês de outubro  Desvio  \n",
       "Estado                                                           \n",
       "Acre                                               1.67  112.44  \n",
       "Alagoas                                            1.35  116.96  \n",
       "Amapá                                              1.32   52.02  \n",
       "Amazonas                                           0.74   29.71  \n",
       "Bahia                                              0.58    7.50  \n",
       "Ceará                                              0.56   78.98  \n",
       "Distrito Federal                                   1.18   66.41  \n",
       "Espírito Santo                                     0.61   91.97  \n",
       "Goiás                                              1.49    1.55  \n",
       "Maranhão                                           0.40   62.00  \n",
       "Mato Grosso                                        0.91    9.39  \n",
       "Mato Grosso do Sul                                 1.32    5.05  \n",
       "Minas Gerais                                       0.89    2.47  \n",
       "Paraná                                             0.54   93.34  \n",
       "Paraíba                                            0.94   42.22  \n",
       "Pará                                               4.61   35.68  \n",
       "Pernambuco                                         0.67  100.28  \n",
       "Piauí                                              0.94  104.22  \n",
       "Rio Grande do Norte                                1.08  154.60  \n",
       "Rio Grande do Sul                                  0.14   30.82  \n",
       "Rio de Janeiro                                     1.19  185.10  \n",
       "Rondônia                                           0.88   22.00  \n",
       "Roraima                                            1.52   36.27  \n",
       "Santa Catarina                                     0.58  237.62  \n",
       "Sergipe                                            0.69  137.30  \n",
       "São Paulo                                          1.13  126.21  \n",
       "Tocantins                                          0.84   20.41  "
      ]
     },
     "execution_count": 39,
     "metadata": {},
     "output_type": "execute_result"
    }
   ],
   "source": [
    "media = df['Custo médio do m² em R$'].mean()\n",
    "df['Desvio'] = (df['Custo médio do m² em R$'] - media).abs().round(2) #valores absolutos\n",
    "df"
   ]
  },
  {
   "cell_type": "code",
   "execution_count": 14,
   "id": "d933f93a",
   "metadata": {},
   "outputs": [
    {
     "data": {
      "text/plain": [
       "0.01    1308.06\n",
       "0.02    1312.56\n",
       "0.03    1317.05\n",
       "0.04    1321.67\n",
       "0.05    1326.96\n",
       "0.06    1332.25\n",
       "0.07    1337.54\n",
       "0.08    1342.22\n",
       "0.09    1345.53\n",
       "0.10    1348.84\n",
       "0.11    1352.16\n",
       "0.12    1354.41\n",
       "0.13    1355.44\n",
       "0.14    1356.46\n",
       "0.15    1357.49\n",
       "0.16    1359.21\n",
       "0.17    1361.37\n",
       "0.18    1363.53\n",
       "0.19    1365.69\n",
       "0.20    1368.79\n",
       "0.21    1372.17\n",
       "0.22    1375.54\n",
       "0.23    1378.92\n",
       "0.24    1383.26\n",
       "0.25    1387.67\n",
       "0.26    1392.08\n",
       "0.27    1396.36\n",
       "0.28    1398.95\n",
       "0.29    1401.55\n",
       "0.30    1404.14\n",
       "0.31    1406.73\n",
       "0.32    1409.28\n",
       "0.33    1411.82\n",
       "0.34    1414.37\n",
       "0.35    1417.19\n",
       "0.36    1420.44\n",
       "0.37    1423.70\n",
       "0.38    1426.95\n",
       "0.39    1431.29\n",
       "0.40    1436.58\n",
       "0.41    1441.86\n",
       "0.42    1447.14\n",
       "0.43    1450.18\n",
       "0.44    1452.22\n",
       "0.45    1454.26\n",
       "0.46    1456.30\n",
       "0.47    1457.49\n",
       "0.48    1458.54\n",
       "0.49    1459.58\n",
       "0.50    1460.63\n",
       "0.51    1461.30\n",
       "0.52    1461.97\n",
       "0.53    1462.64\n",
       "0.54    1463.31\n",
       "0.55    1463.95\n",
       "0.56    1464.58\n",
       "0.57    1465.22\n",
       "0.58    1466.69\n",
       "0.59    1470.05\n",
       "0.60    1473.41\n",
       "0.61    1476.76\n",
       "0.62    1478.76\n",
       "0.63    1479.17\n",
       "0.64    1479.59\n",
       "0.65    1480.00\n",
       "0.66    1481.57\n",
       "0.67    1483.86\n",
       "0.68    1486.16\n",
       "0.69    1488.45\n",
       "0.70    1489.95\n",
       "0.71    1491.22\n",
       "0.72    1492.48\n",
       "0.73    1493.74\n",
       "0.74    1493.98\n",
       "0.75    1494.14\n",
       "0.76    1494.29\n",
       "0.77    1495.03\n",
       "0.78    1502.87\n",
       "0.79    1510.71\n",
       "0.80    1518.54\n",
       "0.81    1526.19\n",
       "0.82    1533.19\n",
       "0.83    1540.19\n",
       "0.84    1547.19\n",
       "0.85    1553.41\n",
       "0.86    1558.38\n",
       "0.87    1563.34\n",
       "0.88    1568.31\n",
       "0.89    1572.53\n",
       "0.90    1576.11\n",
       "0.91    1579.69\n",
       "0.92    1583.27\n",
       "0.93    1594.97\n",
       "0.94    1610.28\n",
       "0.95    1625.59\n",
       "0.96    1640.90\n",
       "0.97    1654.81\n",
       "0.98    1668.47\n",
       "0.99    1682.12\n",
       "1.00    1695.78\n",
       "Name: Custo médio do m² em R$, dtype: float64"
      ]
     },
     "execution_count": 14,
     "metadata": {},
     "output_type": "execute_result"
    }
   ],
   "source": [
    "ListConstruc = [i / 100 for i in range(1, 101)]\n",
    "divisaoEmPercent = round(df['Custo médio do m² em R$'].quantile(ListConstruc), 2) # Separa os valores em percentis (Medidas separatrizes)\n",
    "divisaoEmPercent"
   ]
  },
  {
   "cell_type": "code",
   "execution_count": 15,
   "id": "30924df5",
   "metadata": {},
   "outputs": [
    {
     "data": {
      "image/png": "[encoded data removed]",
      "text/plain": [
       "<Figure size 2520x1080 with 1 Axes>"
      ]
     },
     "metadata": {
      "needs_background": "light"
     },
     "output_type": "display_data"
    }
   ],
   "source": [
    "ax = sns.barplot(x = df.index , y = 'Custo médio do m² em R$', data = df)\n",
    "ax.figure.set_size_inches(35,15)"
   ]
  },
  {
   "cell_type": "code",
   "execution_count": 16,
   "id": "a98fe890",
   "metadata": {},
   "outputs": [
    {
     "data": {
      "text/plain": [
       "<AxesSubplot:title={'center':'Anos de Estudo'}, xlabel='Custo médio do m² em R$'>"
      ]
     },
     "execution_count": 16,
     "metadata": {},
     "output_type": "execute_result"
    },
    {
     "data": {
      "image/png": "[encoded data removed]",
      "text/plain": [
       "<Figure size 1440x576 with 1 Axes>"
      ]
     },
     "metadata": {
      "needs_background": "light"
     },
     "output_type": "display_data"
    }
   ],
   "source": [
    "ax = sns.boxplot( x = 'Custo médio do m² em R$', data = df)\n",
    "ax.figure.set_size_inches(20, 8)\n",
    "ax.set_title('Anos de Estudo', fontsize=18)\n",
    "ax.set_xlabel('Custo médio do m² em R$', fontsize=14)\n",
    "ax\n"
   ]
  },
  {
   "cell_type": "markdown",
   "id": "33f28f4e",
   "metadata": {},
   "source": [
    "# Aplicando o metodo sturges "
   ]
  },
  {
   "cell_type": "markdown",
   "id": "ae3ad026",
   "metadata": {},
   "source": [
    "Trata-se de um modo de organizar um conjunto de dados observados para se ter uma ideia de seu comportamento, ou seja, de sua distribuição. Relaciona categorias ou classes de valores, juntamente com contagens ou frequências do número de valores que se enquadram em cada categoria.\n",
    "\n",
    "* Para variáveis discretas: proporção em relação à característica.\n",
    "* Para variáveis contínuas: proporção em relação a intervalos"
   ]
  },
  {
   "cell_type": "markdown",
   "id": "dc3f1aa5",
   "metadata": {},
   "source": [
    "## Regra de Sturges\n",
    "A regra de Sturges serrver para definirmos o número ideal de intervalos que podemos ter em uma determinnada população.\n",
    "A regra de esturges é devida através da fórmula abaixo\n",
    "\n",
    "# $$k = 1 + \\frac {10}{3}\\log_{10}n$$"
   ]
  },
  {
   "cell_type": "markdown",
   "id": "206090bb",
   "metadata": {},
   "source": [
    "n = Numero de elementos"
   ]
  },
  {
   "cell_type": "code",
   "execution_count": 17,
   "id": "7105a5ea",
   "metadata": {},
   "outputs": [
    {
     "data": {
      "text/plain": [
       "27"
      ]
     },
     "execution_count": 17,
     "metadata": {},
     "output_type": "execute_result"
    }
   ],
   "source": [
    "n =  df.shape[0]\n",
    "n"
   ]
  },
  {
   "cell_type": "code",
   "execution_count": 18,
   "id": "59434547",
   "metadata": {},
   "outputs": [
    {
     "data": {
      "text/plain": [
       "5"
      ]
     },
     "execution_count": 18,
     "metadata": {},
     "output_type": "execute_result"
    }
   ],
   "source": [
    "k = int(1 + (10 / 3) * np.log10(n))\n",
    "k "
   ]
  },
  {
   "cell_type": "markdown",
   "id": "5c63ee7e",
   "metadata": {},
   "source": [
    "Conforme obtido da regra de Sturges, O úmero de classes ideal para essa população é 5, usaremos esse valor abaixo >"
   ]
  },
  {
   "cell_type": "code",
   "execution_count": 40,
   "id": "4348c87d",
   "metadata": {},
   "outputs": [],
   "source": [
    "# o comando abaixo divide em classe o data set informado\n",
    "\n",
    "classes = pd.value_counts( #sepera em valores unicos, facilitando a compreensao do cut, do contrario, seria aplicado a todos os valores, ainda que repetido\n",
    "            pd.cut(\n",
    "            x = df['Custo médio do m² em R$'], #Especifiando os dados\n",
    "            bins = k, #numero de classes pretendidos\n",
    "            include_lowest = True,\n",
    "            labels = ['1303.167 |- 1382.00',\n",
    "                      '1382.004 |- 1460.448',\n",
    "                      '1460.448 |- 1538.892',\n",
    "                      '1538.892 |- 1617.336',\n",
    "                      '1617.336 |- 1695.78']\n",
    "            ), #antes de setar os labels, foi verificador o valor das classes que seria obtido\n",
    "               #os labels foram montados para melhor compreensão \n",
    "            sort = False #Desativando a ordenação automática do value counts, para que as classes sejam ordenadas de menor par aa maior, independete do numero de integrante dessa classe\n",
    ")\n",
    "\n",
    "dfClasses = pd.DataFrame(classes)\n",
    "dfClasses.rename_axis('Intervalos', axis = 'columns', inplace = True)\n",
    "dfClasses.rename(columns = {'Custo médio do m² em R$':'Quantidade / Frequência'}, inplace = True)\n"
   ]
  },
  {
   "cell_type": "markdown",
   "id": "17f1a653",
   "metadata": {},
   "source": [
    "Abaixo vemos o resultado da distrubuição de classes utlizando a regra de Sturges "
   ]
  },
  {
   "cell_type": "code",
   "execution_count": 41,
   "id": "16fb1aa8",
   "metadata": {},
   "outputs": [
    {
     "data": {
      "text/html": [
       "<div>\n",
       "<style scoped>\n",
       "    .dataframe tbody tr th:only-of-type {\n",
       "        vertical-align: middle;\n",
       "    }\n",
       "\n",
       "    .dataframe tbody tr th {\n",
       "        vertical-align: top;\n",
       "    }\n",
       "\n",
       "    .dataframe thead th {\n",
       "        text-align: right;\n",
       "    }\n",
       "</style>\n",
       "<table border=\"1\" class=\"dataframe\">\n",
       "  <thead>\n",
       "    <tr style=\"text-align: right;\">\n",
       "      <th>Intervalos</th>\n",
       "      <th>Quantidade / Frequência</th>\n",
       "    </tr>\n",
       "  </thead>\n",
       "  <tbody>\n",
       "    <tr>\n",
       "      <th>1303.167 |- 1382.00</th>\n",
       "      <td>7</td>\n",
       "    </tr>\n",
       "    <tr>\n",
       "      <th>1382.004 |- 1460.448</th>\n",
       "      <td>6</td>\n",
       "    </tr>\n",
       "    <tr>\n",
       "      <th>1460.448 |- 1538.892</th>\n",
       "      <td>9</td>\n",
       "    </tr>\n",
       "    <tr>\n",
       "      <th>1538.892 |- 1617.336</th>\n",
       "      <td>3</td>\n",
       "    </tr>\n",
       "    <tr>\n",
       "      <th>1617.336 |- 1695.78</th>\n",
       "      <td>2</td>\n",
       "    </tr>\n",
       "  </tbody>\n",
       "</table>\n",
       "</div>"
      ],
      "text/plain": [
       "Intervalos            Quantidade / Frequência\n",
       "1303.167 |- 1382.00                         7\n",
       "1382.004 |- 1460.448                        6\n",
       "1460.448 |- 1538.892                        9\n",
       "1538.892 |- 1617.336                        3\n",
       "1617.336 |- 1695.78                         2"
      ]
     },
     "execution_count": 41,
     "metadata": {},
     "output_type": "execute_result"
    }
   ],
   "source": [
    "dfClasses"
   ]
  },
  {
   "cell_type": "markdown",
   "id": "1f7f5639",
   "metadata": {},
   "source": [
    "### Variância\n",
    "\n",
    "A variância é construída a partir das diferenças entre cada observação e a média dos dados, ou seja, o desvio em torno da média. No cálculo da variância, os desvios em torno da média são elevados ao quadrado."
   ]
  },
  {
   "cell_type": "markdown",
   "id": "aed4a994",
   "metadata": {},
   "source": [
    "### Variância populacional\n",
    "\n",
    "# $$\\sigma^2 = \\frac 1n\\sum_{i=1}^{n}(X_i-\\mu)^2$$"
   ]
  },
  {
   "cell_type": "markdown",
   "id": "26bda667",
   "metadata": {},
   "source": [
    "A variancia para é de R$ 9165.33"
   ]
  },
  {
   "cell_type": "markdown",
   "id": "c1f3abee",
   "metadata": {},
   "source": [
    "No entanto, para que possamos ter um resoltado mais preciso, utilizaremos o desvio padrão, que ira nos dizer quanto em média cada valor desvia da média de todos os valores"
   ]
  },
  {
   "cell_type": "markdown",
   "id": "e7714555",
   "metadata": {},
   "source": [
    "### Desvio padrão populacional\n",
    "\n",
    "# $$\\sigma = \\sqrt{\\frac 1n\\sum_{i=1}^{n}(X_i-\\mu)^2} \\Longrightarrow \\sigma = \\sqrt{\\sigma^2}$$"
   ]
  },
  {
   "cell_type": "markdown",
   "id": "9b4d2ec1",
   "metadata": {},
   "source": [
    "O desvio padrão para o preço do metro quadrado no Brasil por estado é de R$ 95,74."
   ]
  },
  {
   "cell_type": "markdown",
   "id": "e65758bb",
   "metadata": {},
   "source": [
    "Para simplificar, isso significa que, em média, por estado, o valor varia em torno de R$95,74 em relação a média de todos os estados"
   ]
  },
  {
   "cell_type": "markdown",
   "id": "eb85765c",
   "metadata": {},
   "source": [
    "# Realação entre média moda e media"
   ]
  },
  {
   "cell_type": "markdown",
   "id": "3ee2df6f",
   "metadata": {},
   "source": [
    "<img src='Dataset/img004.png' width='80%'>"
   ]
  },
  {
   "cell_type": "markdown",
   "id": "071e7a5a",
   "metadata": {},
   "source": [
    "A curva central representa uma distribuição normal dos dados\n",
    "As demais representão distribuições paranormais\n",
    "Abaixo, iremos elabora um gráfico com base nas informações da colução 'Custo médio do m² em R$' para classificar se estamos lidando como uma distribuição normal ou para normal dos dados"
   ]
  },
  {
   "cell_type": "code",
   "execution_count": 54,
   "id": "5d61f60e",
   "metadata": {},
   "outputs": [
    {
     "name": "stderr",
     "output_type": "stream",
     "text": [
      "C:\\Users\\fqueirox\\Anaconda3\\lib\\site-packages\\seaborn\\distributions.py:2557: FutureWarning: `distplot` is a deprecated function and will be removed in a future version. Please adapt your code to use either `displot` (a figure-level function with similar flexibility) or `histplot` (an axes-level function for histograms).\n",
      "  warnings.warn(msg, FutureWarning)\n"
     ]
    },
    {
     "data": {
      "text/plain": [
       "<AxesSubplot:xlabel='Custo médio do m² em R$', ylabel='Density'>"
      ]
     },
     "execution_count": 54,
     "metadata": {},
     "output_type": "execute_result"
    },
    {
     "data": {
      "image/png": "[encoded data removed]",
      "text/plain": [
       "<Figure size 864x432 with 1 Axes>"
      ]
     },
     "metadata": {
      "needs_background": "light"
     },
     "output_type": "display_data"
    }
   ],
   "source": [
    "ax1 = sns.distplot(df['Custo médio do m² em R$']) #foi feito uma query para filtrar os dados apenas < 20000\n",
    "#a syntax foi levemente alterada mas com o mesmo signnificado\n",
    "#A função 'query' so funciona para DataFrames, como nao funciona para series, foi usado dois colches como macete para que\n",
    "#o comentdo interpretasse uma unica coluna como um data frame\n",
    "ax1.figure.set_size_inches(12, 6)\n",
    "ax1"
   ]
  },
  {
   "cell_type": "markdown",
   "id": "12aff554",
   "metadata": {},
   "source": [
    "Como foi possível analisar, nossa distribuição mais se assemelha a uma distribuição normal, nesse caso, podemos utilizar desvio padrao e media com base na curva de gauss"
   ]
  },
  {
   "cell_type": "markdown",
   "id": "f1d4df38",
   "metadata": {},
   "source": [
    "# Curva de gauss"
   ]
  },
  {
   "cell_type": "markdown",
   "id": "209d4900",
   "metadata": {},
   "source": [
    "<img src=\"Dataset\\iqbellcurve03.jpg\">"
   ]
  },
  {
   "cell_type": "markdown",
   "id": "eac02c93",
   "metadata": {},
   "source": [
    "A curva de gauss (idealizada pelo matemático alemão Fredric Gauss) btem como parâmetro o desvio padrão, que,conforme foi calculado anteriormente, é de 95.74"
   ]
  },
  {
   "cell_type": "markdown",
   "id": "a57337d8",
   "metadata": {},
   "source": [
    "A cada dois desvios padrões afastados da média (nesse caso, dois devios padrões são 2 x 95.74 = 191.48) temos aénas 4,2% da população sobrando "
   ]
  },
  {
   "cell_type": "code",
   "execution_count": 68,
   "id": "572c770e",
   "metadata": {},
   "outputs": [
    {
     "data": {
      "text/plain": [
       "1458.16"
      ]
     },
     "execution_count": 68,
     "metadata": {},
     "output_type": "execute_result"
    }
   ],
   "source": [
    "media"
   ]
  },
  {
   "cell_type": "code",
   "execution_count": 105,
   "id": "486e49c7",
   "metadata": {},
   "outputs": [
    {
     "name": "stdout",
     "output_type": "stream",
     "text": [
      "1:1266.68 2:1649.64 \n"
     ]
    }
   ],
   "source": [
    "media2desvios_positivo = media + desvioPadrao * 2\n",
    "media2desvios2_negativo = media - desvioPadrao * 2\n",
    "\n",
    "print(f'1:{media2desvios2_negativo} ' + f'2:{media2desvios_positivo} ')"
   ]
  },
  {
   "cell_type": "code",
   "execution_count": 104,
   "id": "124ca0c4",
   "metadata": {},
   "outputs": [
    {
     "data": {
      "text/plain": [
       "1553.9"
      ]
     },
     "execution_count": 104,
     "metadata": {},
     "output_type": "execute_result"
    }
   ],
   "source": [
    "media + desvioPadrao"
   ]
  },
  {
   "cell_type": "code",
   "execution_count": 103,
   "id": "638e5aff",
   "metadata": {},
   "outputs": [
    {
     "data": {
      "text/plain": [
       "191.47149684108098"
      ]
     },
     "execution_count": 103,
     "metadata": {},
     "output_type": "execute_result"
    }
   ],
   "source": [
    "df['Custo médio do m² em R$'].std() * 2"
   ]
  },
  {
   "cell_type": "code",
   "execution_count": 110,
   "id": "d2afd367",
   "metadata": {},
   "outputs": [
    {
     "ename": "SyntaxError",
     "evalue": "Could not convert 'BACKTICK_QUOTED_STRING_Custo_médio_do_m²_em_R_DOLLARSIGN_' to a valid Python identifier. (<string>)",
     "output_type": "error",
     "traceback": [
      "Traceback \u001b[1;36m(most recent call last)\u001b[0m:\n",
      "  File \u001b[0;32m\"C:\\Users\\fqueirox\\Anaconda3\\lib\\site-packages\\IPython\\core\\interactiveshell.py\"\u001b[0m, line \u001b[0;32m3437\u001b[0m, in \u001b[0;35mrun_code\u001b[0m\n    exec(code_obj, self.user_global_ns, self.user_ns)\n",
      "  File \u001b[0;32m\"<ipython-input-110-7e765f75282c>\"\u001b[0m, line \u001b[0;32m1\u001b[0m, in \u001b[0;35m<module>\u001b[0m\n    df.query('`Custo médio do m² em R$` > 1000')\n",
      "  File \u001b[0;32m\"C:\\Users\\fqueirox\\Anaconda3\\lib\\site-packages\\pandas\\core\\frame.py\"\u001b[0m, line \u001b[0;32m3469\u001b[0m, in \u001b[0;35mquery\u001b[0m\n    res = self.eval(expr, **kwargs)\n",
      "  File \u001b[0;32m\"C:\\Users\\fqueirox\\Anaconda3\\lib\\site-packages\\pandas\\core\\frame.py\"\u001b[0m, line \u001b[0;32m3599\u001b[0m, in \u001b[0;35meval\u001b[0m\n    return _eval(expr, inplace=inplace, **kwargs)\n",
      "  File \u001b[0;32m\"C:\\Users\\fqueirox\\Anaconda3\\lib\\site-packages\\pandas\\core\\computation\\eval.py\"\u001b[0m, line \u001b[0;32m342\u001b[0m, in \u001b[0;35meval\u001b[0m\n    parsed_expr = Expr(expr, engine=engine, parser=parser, env=env)\n",
      "  File \u001b[0;32m\"C:\\Users\\fqueirox\\Anaconda3\\lib\\site-packages\\pandas\\core\\computation\\expr.py\"\u001b[0m, line \u001b[0;32m798\u001b[0m, in \u001b[0;35m__init__\u001b[0m\n    self.terms = self.parse()\n",
      "  File \u001b[0;32m\"C:\\Users\\fqueirox\\Anaconda3\\lib\\site-packages\\pandas\\core\\computation\\expr.py\"\u001b[0m, line \u001b[0;32m817\u001b[0m, in \u001b[0;35mparse\u001b[0m\n    return self._visitor.visit(self.expr)\n",
      "  File \u001b[0;32m\"C:\\Users\\fqueirox\\Anaconda3\\lib\\site-packages\\pandas\\core\\computation\\expr.py\"\u001b[0m, line \u001b[0;32m391\u001b[0m, in \u001b[0;35mvisit\u001b[0m\n    clean = self.preparser(node)\n",
      "  File \u001b[0;32m\"C:\\Users\\fqueirox\\Anaconda3\\lib\\site-packages\\pandas\\core\\computation\\expr.py\"\u001b[0m, line \u001b[0;32m156\u001b[0m, in \u001b[0;35m_preparse\u001b[0m\n    return tokenize.untokenize(f(x) for x in tokenize_string(source))\n",
      "  File \u001b[0;32m\"C:\\Users\\fqueirox\\Anaconda3\\lib\\tokenize.py\"\u001b[0m, line \u001b[0;32m278\u001b[0m, in \u001b[0;35muntokenize\u001b[0m\n    out = ut.untokenize(iterable)\n",
      "  File \u001b[0;32m\"C:\\Users\\fqueirox\\Anaconda3\\lib\\tokenize.py\"\u001b[0m, line \u001b[0;32m187\u001b[0m, in \u001b[0;35muntokenize\u001b[0m\n    for t in it:\n",
      "  File \u001b[0;32m\"C:\\Users\\fqueirox\\Anaconda3\\lib\\site-packages\\pandas\\core\\computation\\expr.py\"\u001b[0m, line \u001b[0;32m156\u001b[0m, in \u001b[0;35m<genexpr>\u001b[0m\n    return tokenize.untokenize(f(x) for x in tokenize_string(source))\n",
      "  File \u001b[0;32m\"C:\\Users\\fqueirox\\Anaconda3\\lib\\site-packages\\pandas\\core\\computation\\expr.py\"\u001b[0m, line \u001b[0;32m114\u001b[0m, in \u001b[0;35m<lambda>\u001b[0m\n    return lambda *args, **kwargs: f(g(*args, **kwargs))\n",
      "  File \u001b[0;32m\"C:\\Users\\fqueirox\\Anaconda3\\lib\\site-packages\\pandas\\core\\computation\\parsing.py\"\u001b[0m, line \u001b[0;32m92\u001b[0m, in \u001b[0;35mclean_backtick_quoted_toks\u001b[0m\n    return tokenize.NAME, create_valid_python_identifier(tokval)\n",
      "\u001b[1;36m  File \u001b[1;32m\"C:\\Users\\fqueirox\\Anaconda3\\lib\\site-packages\\pandas\\core\\computation\\parsing.py\"\u001b[1;36m, line \u001b[1;32m65\u001b[1;36m, in \u001b[1;35mcreate_valid_python_identifier\u001b[1;36m\u001b[0m\n\u001b[1;33m    raise SyntaxError(f\"Could not convert '{name}' to a valid Python identifier.\")\u001b[0m\n",
      "\u001b[1;36m  File \u001b[1;32m\"<string>\"\u001b[1;36m, line \u001b[1;32munknown\u001b[0m\n\u001b[1;31mSyntaxError\u001b[0m\u001b[1;31m:\u001b[0m Could not convert 'BACKTICK_QUOTED_STRING_Custo_médio_do_m²_em_R_DOLLARSIGN_' to a valid Python identifier.\n"
     ]
    }
   ],
   "source": [
    "df.query('`Custo médio do m² em R$` > 1000')"
   ]
  },
  {
   "cell_type": "markdown",
   "id": "965bb1ee",
   "metadata": {},
   "source": [
    "# Visão sobre o custo do m² no estado de São Paulo"
   ]
  },
  {
   "cell_type": "markdown",
   "id": "8495c838",
   "metadata": {},
   "source": [
    "O custo médio do m² no brasil é de R$ 1.458,16"
   ]
  },
  {
   "cell_type": "markdown",
   "id": "2186a93e",
   "metadata": {},
   "source": [
    "O custo médio, considerando somente o estado de são paulo é de R$ 1.584,37, esse valor é 8,6% maior do que a média nacional"
   ]
  },
  {
   "cell_type": "markdown",
   "id": "01bf6bdc",
   "metadata": {},
   "source": [
    "Porém, é 7,03% mais barata do que a média do m² no estado de SC que é a mais cara, estando em R$ 1.695,78"
   ]
  },
  {
   "cell_type": "markdown",
   "id": "4d9487c8",
   "metadata": {},
   "source": [
    "Segundo algumas informações obtidas de obtidas da gestão urbana de São Paulo, através do site: <br>\n",
    "https://gestaourbana.prefeitura.sp.gov.br/frente-e-area-minima-do-lote/ <br>\n",
    "A área mínima de um Lote em SP é de 125m²"
   ]
  },
  {
   "cell_type": "markdown",
   "id": "16b7d2c1",
   "metadata": {},
   "source": [
    "Considerando que em média o m² em SP é de R\\$ 1.584,37"
   ]
  },
  {
   "cell_type": "markdown",
   "id": "130f4211",
   "metadata": {},
   "source": [
    "Temos que, em média, o mínimo para adquirir um terreno em SP é de R$ 198.046,25"
   ]
  },
  {
   "cell_type": "code",
   "execution_count": 42,
   "id": "34f7f326",
   "metadata": {},
   "outputs": [
    {
     "data": {
      "text/html": [
       "<div>\n",
       "<style scoped>\n",
       "    .dataframe tbody tr th:only-of-type {\n",
       "        vertical-align: middle;\n",
       "    }\n",
       "\n",
       "    .dataframe tbody tr th {\n",
       "        vertical-align: top;\n",
       "    }\n",
       "\n",
       "    .dataframe thead th {\n",
       "        text-align: right;\n",
       "    }\n",
       "</style>\n",
       "<table border=\"1\" class=\"dataframe\">\n",
       "  <thead>\n",
       "    <tr style=\"text-align: right;\">\n",
       "      <th></th>\n",
       "      <th>Custo médio do m² em R$</th>\n",
       "      <th>Variação percentual no ano de 2021 até outubro</th>\n",
       "      <th>Variação percentual mês de outubro</th>\n",
       "      <th>Desvio</th>\n",
       "    </tr>\n",
       "    <tr>\n",
       "      <th>Estado</th>\n",
       "      <th></th>\n",
       "      <th></th>\n",
       "      <th></th>\n",
       "      <th></th>\n",
       "    </tr>\n",
       "  </thead>\n",
       "  <tbody>\n",
       "    <tr>\n",
       "      <th>Acre</th>\n",
       "      <td>1570.60</td>\n",
       "      <td>12.32</td>\n",
       "      <td>1.67</td>\n",
       "      <td>112.44</td>\n",
       "    </tr>\n",
       "    <tr>\n",
       "      <th>Alagoas</th>\n",
       "      <td>1341.20</td>\n",
       "      <td>16.06</td>\n",
       "      <td>1.35</td>\n",
       "      <td>116.96</td>\n",
       "    </tr>\n",
       "    <tr>\n",
       "      <th>Amapá</th>\n",
       "      <td>1406.14</td>\n",
       "      <td>10.95</td>\n",
       "      <td>1.32</td>\n",
       "      <td>52.02</td>\n",
       "    </tr>\n",
       "    <tr>\n",
       "      <th>Amazonas</th>\n",
       "      <td>1428.45</td>\n",
       "      <td>12.54</td>\n",
       "      <td>0.74</td>\n",
       "      <td>29.71</td>\n",
       "    </tr>\n",
       "    <tr>\n",
       "      <th>Bahia</th>\n",
       "      <td>1465.66</td>\n",
       "      <td>17.24</td>\n",
       "      <td>0.58</td>\n",
       "      <td>7.50</td>\n",
       "    </tr>\n",
       "    <tr>\n",
       "      <th>Ceará</th>\n",
       "      <td>1379.18</td>\n",
       "      <td>16.63</td>\n",
       "      <td>0.56</td>\n",
       "      <td>78.98</td>\n",
       "    </tr>\n",
       "    <tr>\n",
       "      <th>Distrito Federal</th>\n",
       "      <td>1524.57</td>\n",
       "      <td>15.14</td>\n",
       "      <td>1.18</td>\n",
       "      <td>66.41</td>\n",
       "    </tr>\n",
       "    <tr>\n",
       "      <th>Espírito Santo</th>\n",
       "      <td>1366.19</td>\n",
       "      <td>16.39</td>\n",
       "      <td>0.61</td>\n",
       "      <td>91.97</td>\n",
       "    </tr>\n",
       "    <tr>\n",
       "      <th>Goiás</th>\n",
       "      <td>1456.61</td>\n",
       "      <td>13.87</td>\n",
       "      <td>1.49</td>\n",
       "      <td>1.55</td>\n",
       "    </tr>\n",
       "    <tr>\n",
       "      <th>Maranhão</th>\n",
       "      <td>1396.16</td>\n",
       "      <td>14.92</td>\n",
       "      <td>0.40</td>\n",
       "      <td>62.00</td>\n",
       "    </tr>\n",
       "    <tr>\n",
       "      <th>Mato Grosso</th>\n",
       "      <td>1448.77</td>\n",
       "      <td>18.09</td>\n",
       "      <td>0.91</td>\n",
       "      <td>9.39</td>\n",
       "    </tr>\n",
       "    <tr>\n",
       "      <th>Mato Grosso do Sul</th>\n",
       "      <td>1463.21</td>\n",
       "      <td>22.15</td>\n",
       "      <td>1.32</td>\n",
       "      <td>5.05</td>\n",
       "    </tr>\n",
       "    <tr>\n",
       "      <th>Minas Gerais</th>\n",
       "      <td>1460.63</td>\n",
       "      <td>19.87</td>\n",
       "      <td>0.89</td>\n",
       "      <td>2.47</td>\n",
       "    </tr>\n",
       "    <tr>\n",
       "      <th>Paraná</th>\n",
       "      <td>1551.50</td>\n",
       "      <td>19.22</td>\n",
       "      <td>0.54</td>\n",
       "      <td>93.34</td>\n",
       "    </tr>\n",
       "    <tr>\n",
       "      <th>Paraíba</th>\n",
       "      <td>1415.94</td>\n",
       "      <td>15.13</td>\n",
       "      <td>0.94</td>\n",
       "      <td>42.22</td>\n",
       "    </tr>\n",
       "    <tr>\n",
       "      <th>Pará</th>\n",
       "      <td>1493.84</td>\n",
       "      <td>17.40</td>\n",
       "      <td>4.61</td>\n",
       "      <td>35.68</td>\n",
       "    </tr>\n",
       "    <tr>\n",
       "      <th>Pernambuco</th>\n",
       "      <td>1357.88</td>\n",
       "      <td>16.71</td>\n",
       "      <td>0.67</td>\n",
       "      <td>100.28</td>\n",
       "    </tr>\n",
       "    <tr>\n",
       "      <th>Piauí</th>\n",
       "      <td>1353.94</td>\n",
       "      <td>11.75</td>\n",
       "      <td>0.94</td>\n",
       "      <td>104.22</td>\n",
       "    </tr>\n",
       "    <tr>\n",
       "      <th>Rio Grande do Norte</th>\n",
       "      <td>1303.56</td>\n",
       "      <td>15.39</td>\n",
       "      <td>1.08</td>\n",
       "      <td>154.60</td>\n",
       "    </tr>\n",
       "    <tr>\n",
       "      <th>Rio Grande do Sul</th>\n",
       "      <td>1488.98</td>\n",
       "      <td>15.28</td>\n",
       "      <td>0.14</td>\n",
       "      <td>30.82</td>\n",
       "    </tr>\n",
       "    <tr>\n",
       "      <th>Rio de Janeiro</th>\n",
       "      <td>1643.26</td>\n",
       "      <td>17.15</td>\n",
       "      <td>1.19</td>\n",
       "      <td>185.10</td>\n",
       "    </tr>\n",
       "    <tr>\n",
       "      <th>Rondônia</th>\n",
       "      <td>1480.16</td>\n",
       "      <td>11.14</td>\n",
       "      <td>0.88</td>\n",
       "      <td>22.00</td>\n",
       "    </tr>\n",
       "    <tr>\n",
       "      <th>Roraima</th>\n",
       "      <td>1494.43</td>\n",
       "      <td>11.52</td>\n",
       "      <td>1.52</td>\n",
       "      <td>36.27</td>\n",
       "    </tr>\n",
       "    <tr>\n",
       "      <th>Santa Catarina</th>\n",
       "      <td>1695.78</td>\n",
       "      <td>17.80</td>\n",
       "      <td>0.58</td>\n",
       "      <td>237.62</td>\n",
       "    </tr>\n",
       "    <tr>\n",
       "      <th>Sergipe</th>\n",
       "      <td>1320.86</td>\n",
       "      <td>17.88</td>\n",
       "      <td>0.69</td>\n",
       "      <td>137.30</td>\n",
       "    </tr>\n",
       "    <tr>\n",
       "      <th>São Paulo</th>\n",
       "      <td>1584.37</td>\n",
       "      <td>16.54</td>\n",
       "      <td>1.13</td>\n",
       "      <td>126.21</td>\n",
       "    </tr>\n",
       "    <tr>\n",
       "      <th>Tocantins</th>\n",
       "      <td>1478.57</td>\n",
       "      <td>13.11</td>\n",
       "      <td>0.84</td>\n",
       "      <td>20.41</td>\n",
       "    </tr>\n",
       "  </tbody>\n",
       "</table>\n",
       "</div>"
      ],
      "text/plain": [
       "                     Custo médio do m² em R$  \\\n",
       "Estado                                         \n",
       "Acre                                 1570.60   \n",
       "Alagoas                              1341.20   \n",
       "Amapá                                1406.14   \n",
       "Amazonas                             1428.45   \n",
       "Bahia                                1465.66   \n",
       "Ceará                                1379.18   \n",
       "Distrito Federal                     1524.57   \n",
       "Espírito Santo                       1366.19   \n",
       "Goiás                                1456.61   \n",
       "Maranhão                             1396.16   \n",
       "Mato Grosso                          1448.77   \n",
       "Mato Grosso do Sul                   1463.21   \n",
       "Minas Gerais                         1460.63   \n",
       "Paraná                               1551.50   \n",
       "Paraíba                              1415.94   \n",
       "Pará                                 1493.84   \n",
       "Pernambuco                           1357.88   \n",
       "Piauí                                1353.94   \n",
       "Rio Grande do Norte                  1303.56   \n",
       "Rio Grande do Sul                    1488.98   \n",
       "Rio de Janeiro                       1643.26   \n",
       "Rondônia                             1480.16   \n",
       "Roraima                              1494.43   \n",
       "Santa Catarina                       1695.78   \n",
       "Sergipe                              1320.86   \n",
       "São Paulo                            1584.37   \n",
       "Tocantins                            1478.57   \n",
       "\n",
       "                     Variação percentual no ano de 2021 até outubro  \\\n",
       "Estado                                                                \n",
       "Acre                                                          12.32   \n",
       "Alagoas                                                       16.06   \n",
       "Amapá                                                         10.95   \n",
       "Amazonas                                                      12.54   \n",
       "Bahia                                                         17.24   \n",
       "Ceará                                                         16.63   \n",
       "Distrito Federal                                              15.14   \n",
       "Espírito Santo                                                16.39   \n",
       "Goiás                                                         13.87   \n",
       "Maranhão                                                      14.92   \n",
       "Mato Grosso                                                   18.09   \n",
       "Mato Grosso do Sul                                            22.15   \n",
       "Minas Gerais                                                  19.87   \n",
       "Paraná                                                        19.22   \n",
       "Paraíba                                                       15.13   \n",
       "Pará                                                          17.40   \n",
       "Pernambuco                                                    16.71   \n",
       "Piauí                                                         11.75   \n",
       "Rio Grande do Norte                                           15.39   \n",
       "Rio Grande do Sul                                             15.28   \n",
       "Rio de Janeiro                                                17.15   \n",
       "Rondônia                                                      11.14   \n",
       "Roraima                                                       11.52   \n",
       "Santa Catarina                                                17.80   \n",
       "Sergipe                                                       17.88   \n",
       "São Paulo                                                     16.54   \n",
       "Tocantins                                                     13.11   \n",
       "\n",
       "                     Variação percentual mês de outubro  Desvio  \n",
       "Estado                                                           \n",
       "Acre                                               1.67  112.44  \n",
       "Alagoas                                            1.35  116.96  \n",
       "Amapá                                              1.32   52.02  \n",
       "Amazonas                                           0.74   29.71  \n",
       "Bahia                                              0.58    7.50  \n",
       "Ceará                                              0.56   78.98  \n",
       "Distrito Federal                                   1.18   66.41  \n",
       "Espírito Santo                                     0.61   91.97  \n",
       "Goiás                                              1.49    1.55  \n",
       "Maranhão                                           0.40   62.00  \n",
       "Mato Grosso                                        0.91    9.39  \n",
       "Mato Grosso do Sul                                 1.32    5.05  \n",
       "Minas Gerais                                       0.89    2.47  \n",
       "Paraná                                             0.54   93.34  \n",
       "Paraíba                                            0.94   42.22  \n",
       "Pará                                               4.61   35.68  \n",
       "Pernambuco                                         0.67  100.28  \n",
       "Piauí                                              0.94  104.22  \n",
       "Rio Grande do Norte                                1.08  154.60  \n",
       "Rio Grande do Sul                                  0.14   30.82  \n",
       "Rio de Janeiro                                     1.19  185.10  \n",
       "Rondônia                                           0.88   22.00  \n",
       "Roraima                                            1.52   36.27  \n",
       "Santa Catarina                                     0.58  237.62  \n",
       "Sergipe                                            0.69  137.30  \n",
       "São Paulo                                          1.13  126.21  \n",
       "Tocantins                                          0.84   20.41  "
      ]
     },
     "execution_count": 42,
     "metadata": {},
     "output_type": "execute_result"
    }
   ],
   "source": [
    "df"
   ]
  },
  {
   "cell_type": "code",
   "execution_count": 46,
   "id": "1177d672",
   "metadata": {},
   "outputs": [
    {
     "data": {
      "text/plain": [
       "1458.1644444444446"
      ]
     },
     "execution_count": 46,
     "metadata": {},
     "output_type": "execute_result"
    }
   ],
   "source": [
    "df['Custo médio do m² em R$'].mean()"
   ]
  },
  {
   "cell_type": "code",
   "execution_count": 51,
   "id": "1a3092fb",
   "metadata": {},
   "outputs": [
    {
     "data": {
      "text/html": [
       "<div>\n",
       "<style scoped>\n",
       "    .dataframe tbody tr th:only-of-type {\n",
       "        vertical-align: middle;\n",
       "    }\n",
       "\n",
       "    .dataframe tbody tr th {\n",
       "        vertical-align: top;\n",
       "    }\n",
       "\n",
       "    .dataframe thead th {\n",
       "        text-align: right;\n",
       "    }\n",
       "</style>\n",
       "<table border=\"1\" class=\"dataframe\">\n",
       "  <thead>\n",
       "    <tr style=\"text-align: right;\">\n",
       "      <th></th>\n",
       "      <th></th>\n",
       "      <th>Variação percentual no ano de 2021 até outubro</th>\n",
       "      <th>Variação percentual mês de outubro</th>\n",
       "      <th>Desvio</th>\n",
       "    </tr>\n",
       "    <tr>\n",
       "      <th>Custo médio do m² em R$</th>\n",
       "      <th>Estado</th>\n",
       "      <th></th>\n",
       "      <th></th>\n",
       "      <th></th>\n",
       "    </tr>\n",
       "  </thead>\n",
       "  <tbody>\n",
       "    <tr>\n",
       "      <th>1303.56</th>\n",
       "      <th>Rio Grande do Norte</th>\n",
       "      <td>15.39</td>\n",
       "      <td>1.08</td>\n",
       "      <td>154.60</td>\n",
       "    </tr>\n",
       "    <tr>\n",
       "      <th>1320.86</th>\n",
       "      <th>Sergipe</th>\n",
       "      <td>17.88</td>\n",
       "      <td>0.69</td>\n",
       "      <td>137.30</td>\n",
       "    </tr>\n",
       "    <tr>\n",
       "      <th>1341.20</th>\n",
       "      <th>Alagoas</th>\n",
       "      <td>16.06</td>\n",
       "      <td>1.35</td>\n",
       "      <td>116.96</td>\n",
       "    </tr>\n",
       "    <tr>\n",
       "      <th>1353.94</th>\n",
       "      <th>Piauí</th>\n",
       "      <td>11.75</td>\n",
       "      <td>0.94</td>\n",
       "      <td>104.22</td>\n",
       "    </tr>\n",
       "    <tr>\n",
       "      <th>1357.88</th>\n",
       "      <th>Pernambuco</th>\n",
       "      <td>16.71</td>\n",
       "      <td>0.67</td>\n",
       "      <td>100.28</td>\n",
       "    </tr>\n",
       "    <tr>\n",
       "      <th>1366.19</th>\n",
       "      <th>Espírito Santo</th>\n",
       "      <td>16.39</td>\n",
       "      <td>0.61</td>\n",
       "      <td>91.97</td>\n",
       "    </tr>\n",
       "    <tr>\n",
       "      <th>1379.18</th>\n",
       "      <th>Ceará</th>\n",
       "      <td>16.63</td>\n",
       "      <td>0.56</td>\n",
       "      <td>78.98</td>\n",
       "    </tr>\n",
       "    <tr>\n",
       "      <th>1396.16</th>\n",
       "      <th>Maranhão</th>\n",
       "      <td>14.92</td>\n",
       "      <td>0.40</td>\n",
       "      <td>62.00</td>\n",
       "    </tr>\n",
       "    <tr>\n",
       "      <th>1406.14</th>\n",
       "      <th>Amapá</th>\n",
       "      <td>10.95</td>\n",
       "      <td>1.32</td>\n",
       "      <td>52.02</td>\n",
       "    </tr>\n",
       "    <tr>\n",
       "      <th>1415.94</th>\n",
       "      <th>Paraíba</th>\n",
       "      <td>15.13</td>\n",
       "      <td>0.94</td>\n",
       "      <td>42.22</td>\n",
       "    </tr>\n",
       "    <tr>\n",
       "      <th>1428.45</th>\n",
       "      <th>Amazonas</th>\n",
       "      <td>12.54</td>\n",
       "      <td>0.74</td>\n",
       "      <td>29.71</td>\n",
       "    </tr>\n",
       "    <tr>\n",
       "      <th>1448.77</th>\n",
       "      <th>Mato Grosso</th>\n",
       "      <td>18.09</td>\n",
       "      <td>0.91</td>\n",
       "      <td>9.39</td>\n",
       "    </tr>\n",
       "    <tr>\n",
       "      <th>1456.61</th>\n",
       "      <th>Goiás</th>\n",
       "      <td>13.87</td>\n",
       "      <td>1.49</td>\n",
       "      <td>1.55</td>\n",
       "    </tr>\n",
       "    <tr>\n",
       "      <th>1460.63</th>\n",
       "      <th>Minas Gerais</th>\n",
       "      <td>19.87</td>\n",
       "      <td>0.89</td>\n",
       "      <td>2.47</td>\n",
       "    </tr>\n",
       "    <tr>\n",
       "      <th>1463.21</th>\n",
       "      <th>Mato Grosso do Sul</th>\n",
       "      <td>22.15</td>\n",
       "      <td>1.32</td>\n",
       "      <td>5.05</td>\n",
       "    </tr>\n",
       "    <tr>\n",
       "      <th>1465.66</th>\n",
       "      <th>Bahia</th>\n",
       "      <td>17.24</td>\n",
       "      <td>0.58</td>\n",
       "      <td>7.50</td>\n",
       "    </tr>\n",
       "    <tr>\n",
       "      <th>1478.57</th>\n",
       "      <th>Tocantins</th>\n",
       "      <td>13.11</td>\n",
       "      <td>0.84</td>\n",
       "      <td>20.41</td>\n",
       "    </tr>\n",
       "    <tr>\n",
       "      <th>1480.16</th>\n",
       "      <th>Rondônia</th>\n",
       "      <td>11.14</td>\n",
       "      <td>0.88</td>\n",
       "      <td>22.00</td>\n",
       "    </tr>\n",
       "    <tr>\n",
       "      <th>1488.98</th>\n",
       "      <th>Rio Grande do Sul</th>\n",
       "      <td>15.28</td>\n",
       "      <td>0.14</td>\n",
       "      <td>30.82</td>\n",
       "    </tr>\n",
       "    <tr>\n",
       "      <th>1493.84</th>\n",
       "      <th>Pará</th>\n",
       "      <td>17.40</td>\n",
       "      <td>4.61</td>\n",
       "      <td>35.68</td>\n",
       "    </tr>\n",
       "    <tr>\n",
       "      <th>1494.43</th>\n",
       "      <th>Roraima</th>\n",
       "      <td>11.52</td>\n",
       "      <td>1.52</td>\n",
       "      <td>36.27</td>\n",
       "    </tr>\n",
       "    <tr>\n",
       "      <th>1524.57</th>\n",
       "      <th>Distrito Federal</th>\n",
       "      <td>15.14</td>\n",
       "      <td>1.18</td>\n",
       "      <td>66.41</td>\n",
       "    </tr>\n",
       "    <tr>\n",
       "      <th>1551.50</th>\n",
       "      <th>Paraná</th>\n",
       "      <td>19.22</td>\n",
       "      <td>0.54</td>\n",
       "      <td>93.34</td>\n",
       "    </tr>\n",
       "    <tr>\n",
       "      <th>1570.60</th>\n",
       "      <th>Acre</th>\n",
       "      <td>12.32</td>\n",
       "      <td>1.67</td>\n",
       "      <td>112.44</td>\n",
       "    </tr>\n",
       "    <tr>\n",
       "      <th>1584.37</th>\n",
       "      <th>São Paulo</th>\n",
       "      <td>16.54</td>\n",
       "      <td>1.13</td>\n",
       "      <td>126.21</td>\n",
       "    </tr>\n",
       "    <tr>\n",
       "      <th>1643.26</th>\n",
       "      <th>Rio de Janeiro</th>\n",
       "      <td>17.15</td>\n",
       "      <td>1.19</td>\n",
       "      <td>185.10</td>\n",
       "    </tr>\n",
       "    <tr>\n",
       "      <th>1695.78</th>\n",
       "      <th>Santa Catarina</th>\n",
       "      <td>17.80</td>\n",
       "      <td>0.58</td>\n",
       "      <td>237.62</td>\n",
       "    </tr>\n",
       "  </tbody>\n",
       "</table>\n",
       "</div>"
      ],
      "text/plain": [
       "                                             Variação percentual no ano de 2021 até outubro  \\\n",
       "Custo médio do m² em R$ Estado                                                                \n",
       "1303.56                 Rio Grande do Norte                                           15.39   \n",
       "1320.86                 Sergipe                                                       17.88   \n",
       "1341.20                 Alagoas                                                       16.06   \n",
       "1353.94                 Piauí                                                         11.75   \n",
       "1357.88                 Pernambuco                                                    16.71   \n",
       "1366.19                 Espírito Santo                                                16.39   \n",
       "1379.18                 Ceará                                                         16.63   \n",
       "1396.16                 Maranhão                                                      14.92   \n",
       "1406.14                 Amapá                                                         10.95   \n",
       "1415.94                 Paraíba                                                       15.13   \n",
       "1428.45                 Amazonas                                                      12.54   \n",
       "1448.77                 Mato Grosso                                                   18.09   \n",
       "1456.61                 Goiás                                                         13.87   \n",
       "1460.63                 Minas Gerais                                                  19.87   \n",
       "1463.21                 Mato Grosso do Sul                                            22.15   \n",
       "1465.66                 Bahia                                                         17.24   \n",
       "1478.57                 Tocantins                                                     13.11   \n",
       "1480.16                 Rondônia                                                      11.14   \n",
       "1488.98                 Rio Grande do Sul                                             15.28   \n",
       "1493.84                 Pará                                                          17.40   \n",
       "1494.43                 Roraima                                                       11.52   \n",
       "1524.57                 Distrito Federal                                              15.14   \n",
       "1551.50                 Paraná                                                        19.22   \n",
       "1570.60                 Acre                                                          12.32   \n",
       "1584.37                 São Paulo                                                     16.54   \n",
       "1643.26                 Rio de Janeiro                                                17.15   \n",
       "1695.78                 Santa Catarina                                                17.80   \n",
       "\n",
       "                                             Variação percentual mês de outubro  \\\n",
       "Custo médio do m² em R$ Estado                                                    \n",
       "1303.56                 Rio Grande do Norte                                1.08   \n",
       "1320.86                 Sergipe                                            0.69   \n",
       "1341.20                 Alagoas                                            1.35   \n",
       "1353.94                 Piauí                                              0.94   \n",
       "1357.88                 Pernambuco                                         0.67   \n",
       "1366.19                 Espírito Santo                                     0.61   \n",
       "1379.18                 Ceará                                              0.56   \n",
       "1396.16                 Maranhão                                           0.40   \n",
       "1406.14                 Amapá                                              1.32   \n",
       "1415.94                 Paraíba                                            0.94   \n",
       "1428.45                 Amazonas                                           0.74   \n",
       "1448.77                 Mato Grosso                                        0.91   \n",
       "1456.61                 Goiás                                              1.49   \n",
       "1460.63                 Minas Gerais                                       0.89   \n",
       "1463.21                 Mato Grosso do Sul                                 1.32   \n",
       "1465.66                 Bahia                                              0.58   \n",
       "1478.57                 Tocantins                                          0.84   \n",
       "1480.16                 Rondônia                                           0.88   \n",
       "1488.98                 Rio Grande do Sul                                  0.14   \n",
       "1493.84                 Pará                                               4.61   \n",
       "1494.43                 Roraima                                            1.52   \n",
       "1524.57                 Distrito Federal                                   1.18   \n",
       "1551.50                 Paraná                                             0.54   \n",
       "1570.60                 Acre                                               1.67   \n",
       "1584.37                 São Paulo                                          1.13   \n",
       "1643.26                 Rio de Janeiro                                     1.19   \n",
       "1695.78                 Santa Catarina                                     0.58   \n",
       "\n",
       "                                             Desvio  \n",
       "Custo médio do m² em R$ Estado                       \n",
       "1303.56                 Rio Grande do Norte  154.60  \n",
       "1320.86                 Sergipe              137.30  \n",
       "1341.20                 Alagoas              116.96  \n",
       "1353.94                 Piauí                104.22  \n",
       "1357.88                 Pernambuco           100.28  \n",
       "1366.19                 Espírito Santo        91.97  \n",
       "1379.18                 Ceará                 78.98  \n",
       "1396.16                 Maranhão              62.00  \n",
       "1406.14                 Amapá                 52.02  \n",
       "1415.94                 Paraíba               42.22  \n",
       "1428.45                 Amazonas              29.71  \n",
       "1448.77                 Mato Grosso            9.39  \n",
       "1456.61                 Goiás                  1.55  \n",
       "1460.63                 Minas Gerais           2.47  \n",
       "1463.21                 Mato Grosso do Sul     5.05  \n",
       "1465.66                 Bahia                  7.50  \n",
       "1478.57                 Tocantins             20.41  \n",
       "1480.16                 Rondônia              22.00  \n",
       "1488.98                 Rio Grande do Sul     30.82  \n",
       "1493.84                 Pará                  35.68  \n",
       "1494.43                 Roraima               36.27  \n",
       "1524.57                 Distrito Federal      66.41  \n",
       "1551.50                 Paraná                93.34  \n",
       "1570.60                 Acre                 112.44  \n",
       "1584.37                 São Paulo            126.21  \n",
       "1643.26                 Rio de Janeiro       185.10  \n",
       "1695.78                 Santa Catarina       237.62  "
      ]
     },
     "execution_count": 51,
     "metadata": {},
     "output_type": "execute_result"
    }
   ],
   "source": [
    "df.groupby(['Custo médio do m² em R$', df.index]).sum()"
   ]
  },
  {
   "cell_type": "code",
   "execution_count": 27,
   "id": "68200210",
   "metadata": {},
   "outputs": [
    {
     "data": {
      "text/plain": [
       "0.1"
      ]
     },
     "execution_count": 27,
     "metadata": {},
     "output_type": "execute_result"
    }
   ],
   "source": [
    "6 / 60"
   ]
  },
  {
   "cell_type": "code",
   "execution_count": 33,
   "id": "72813d6d",
   "metadata": {},
   "outputs": [
    {
     "name": "stdout",
     "output_type": "stream",
     "text": [
      "0.10000000\n"
     ]
    }
   ],
   "source": [
    "prob = binom.pmf(1, 1, 0.1)\n",
    "print('%.8f' % prob)"
   ]
  },
  {
   "cell_type": "code",
   "execution_count": 32,
   "id": "75111869",
   "metadata": {},
   "outputs": [
    {
     "data": {
      "text/plain": [
       "0.1"
      ]
     },
     "execution_count": 32,
     "metadata": {},
     "output_type": "execute_result"
    }
   ],
   "source": [
    "6 / 60"
   ]
  },
  {
   "cell_type": "code",
   "execution_count": null,
   "id": "456e61e4",
   "metadata": {},
   "outputs": [],
   "source": []
  },
  {
   "cell_type": "code",
   "execution_count": 21,
   "id": "3c2c3722",
   "metadata": {},
   "outputs": [
    {
     "data": {
      "text/plain": [
       "count      27.000000\n",
       "mean     1458.164444\n",
       "std        95.735748\n",
       "min      1303.560000\n",
       "25%      1387.670000\n",
       "50%      1460.630000\n",
       "75%      1494.135000\n",
       "max      1695.780000\n",
       "Name: Custo médio do m² em R$, dtype: float64"
      ]
     },
     "execution_count": 21,
     "metadata": {},
     "output_type": "execute_result"
    }
   ],
   "source": [
    "pd.Series(df['Custo médio do m² em R$'].describe())"
   ]
  },
  {
   "cell_type": "code",
   "execution_count": 22,
   "id": "04a7e69b",
   "metadata": {},
   "outputs": [
    {
     "data": {
      "text/html": [
       "<div>\n",
       "<style scoped>\n",
       "    .dataframe tbody tr th:only-of-type {\n",
       "        vertical-align: middle;\n",
       "    }\n",
       "\n",
       "    .dataframe tbody tr th {\n",
       "        vertical-align: top;\n",
       "    }\n",
       "\n",
       "    .dataframe thead th {\n",
       "        text-align: right;\n",
       "    }\n",
       "</style>\n",
       "<table border=\"1\" class=\"dataframe\">\n",
       "  <thead>\n",
       "    <tr style=\"text-align: right;\">\n",
       "      <th></th>\n",
       "      <th>Horas de sono</th>\n",
       "      <th>Desvio</th>\n",
       "    </tr>\n",
       "  </thead>\n",
       "  <tbody>\n",
       "    <tr>\n",
       "      <th>0</th>\n",
       "      <td>7</td>\n",
       "      <td>0.571429</td>\n",
       "    </tr>\n",
       "    <tr>\n",
       "      <th>1</th>\n",
       "      <td>8</td>\n",
       "      <td>1.571429</td>\n",
       "    </tr>\n",
       "    <tr>\n",
       "      <th>2</th>\n",
       "      <td>6</td>\n",
       "      <td>0.428571</td>\n",
       "    </tr>\n",
       "    <tr>\n",
       "      <th>3</th>\n",
       "      <td>0</td>\n",
       "      <td>6.428571</td>\n",
       "    </tr>\n",
       "    <tr>\n",
       "      <th>4</th>\n",
       "      <td>7</td>\n",
       "      <td>0.571429</td>\n",
       "    </tr>\n",
       "    <tr>\n",
       "      <th>5</th>\n",
       "      <td>7</td>\n",
       "      <td>0.571429</td>\n",
       "    </tr>\n",
       "    <tr>\n",
       "      <th>6</th>\n",
       "      <td>10</td>\n",
       "      <td>3.571429</td>\n",
       "    </tr>\n",
       "  </tbody>\n",
       "</table>\n",
       "</div>"
      ],
      "text/plain": [
       "   Horas de sono    Desvio\n",
       "0              7  0.571429\n",
       "1              8  1.571429\n",
       "2              6  0.428571\n",
       "3              0  6.428571\n",
       "4              7  0.571429\n",
       "5              7  0.571429\n",
       "6             10  3.571429"
      ]
     },
     "execution_count": 22,
     "metadata": {},
     "output_type": "execute_result"
    }
   ],
   "source": [
    "horaSono = pd.DataFrame({'Horas de sono':[7,8,6,0,7,7,10]})\n",
    "horaSono['Desvio'] = (horaSono['Horas de sono'] - horaSono['Horas de sono'].mean()).abs()\n",
    "horaSono"
   ]
  },
  {
   "cell_type": "code",
   "execution_count": null,
   "id": "8c07c560",
   "metadata": {},
   "outputs": [],
   "source": [
    "media = horaSono['Horas de sono'].mean()\n",
    "somario = 0\n",
    "\n",
    "for item in horaSono['Horas de sono']:\n",
    "    print(item)\n",
    "    somario += (item - media)**2\n",
    "    print(somario)\n",
    "\n",
    "somario / 7"
   ]
  },
  {
   "cell_type": "code",
   "execution_count": 23,
   "id": "887d642b",
   "metadata": {},
   "outputs": [
    {
     "data": {
      "text/plain": [
       "9.619047619047619"
      ]
     },
     "execution_count": 23,
     "metadata": {},
     "output_type": "execute_result"
    }
   ],
   "source": [
    "horaSono['Horas de sono'].var()"
   ]
  },
  {
   "cell_type": "code",
   "execution_count": 24,
   "id": "6765c612",
   "metadata": {},
   "outputs": [
    {
     "data": {
      "text/plain": [
       "-1451.1644444444446"
      ]
     },
     "execution_count": 24,
     "metadata": {},
     "output_type": "execute_result"
    }
   ],
   "source": [
    "7 - media"
   ]
  },
  {
   "cell_type": "code",
   "execution_count": null,
   "id": "b778bcd1",
   "metadata": {},
   "outputs": [],
   "source": []
  }
 ],
 "metadata": {
  "kernelspec": {
   "display_name": "Python 3",
   "language": "python",
   "name": "python3"
  },
  "language_info": {
   "codemirror_mode": {
    "name": "ipython",
    "version": 3
   },
   "file_extension": ".py",
   "mimetype": "text/x-python",
   "name": "python",
   "nbconvert_exporter": "python",
   "pygments_lexer": "ipython3",
   "version": "3.8.8"
  }
 },
 "nbformat": 4,
 "nbformat_minor": 5
}
